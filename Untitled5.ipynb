{
 "cells": [
  {
   "cell_type": "code",
   "execution_count": null,
   "id": "4a80dbcc-a215-4b50-9b51-538c3243d3f3",
   "metadata": {},
   "outputs": [],
   "source": [
    "#in the abve case\n",
    "#your data file and python file both are in diff location\n",
    "#full location\n",
    "#python file and data file both are in same location only\n",
    "#no need to provide location\n"
   ]
  },
  {
   "cell_type": "raw",
   "id": "06b541b0-f2d3-43b9-8e2c-4cde219a233d",
   "metadata": {
    "scrolled": true
   },
   "source": [
    "dir(os)"
   ]
  },
  {
   "cell_type": "code",
   "execution_count": 5,
   "id": "b0fee74c-1ff6-4062-b972-bbace1817048",
   "metadata": {},
   "outputs": [
    {
     "data": {
      "text/plain": [
       "<function TextIOWrapper.read(size=-1, /)>"
      ]
     },
     "execution_count": 5,
     "metadata": {},
     "output_type": "execute_result"
    }
   ],
   "source": [
    "file_path=\"C:\\\\Users\\\\Bhuban Khadka\\\\Documents\\\\bhumika.txt\"\n",
    "file=open(file_path)\n",
    "file.read"
   ]
  },
  {
   "cell_type": "code",
   "execution_count": 7,
   "id": "52f3ec21-8d74-47ba-831a-debd477c6b35",
   "metadata": {},
   "outputs": [],
   "source": [
    "import os"
   ]
  },
  {
   "cell_type": "code",
   "execution_count": 8,
   "id": "81949921-3258-4e54-92a0-af9d86e6f460",
   "metadata": {},
   "outputs": [
    {
     "data": {
      "text/plain": [
       "'C:\\\\Users\\\\Bhuban Khadka\\\\Desktop'"
      ]
     },
     "execution_count": 8,
     "metadata": {},
     "output_type": "execute_result"
    }
   ],
   "source": [
    "os.getcwd()"
   ]
  },
  {
   "cell_type": "code",
   "execution_count": null,
   "id": "0d387163-10a9-44fe-8bf7-e2ce1d42f5f4",
   "metadata": {},
   "outputs": [],
   "source": [
    "#copy in python location"
   ]
  },
  {
   "cell_type": "code",
   "execution_count": 5,
   "id": "8144a854-9453-425e-a72e-ae239d5ca82f",
   "metadata": {},
   "outputs": [
    {
     "name": "stdout",
     "output_type": "stream",
     "text": [
      "Submission Number:-810068672197\n",
      "कृपया आफ्नो Username, Password र Submission Number सुरक्षित राख्नुहोस्। यहि Username र Password तपाईले आन्तरिक राजस्व विभागको अन्य E-SYSTEM हरु मा पनि प्रयोग गर्न सकिने छ।\n",
      "सम्पूर्ण आवश्यक विवरण, फोटो र परिचयपत्र प्रविष्ट गरीसकेपछि सेभ र सबमिट Button थिच्नुहोस् र \"Print Form\" मा क्लिक गरी प्रिन्ट निकाल्नुहोस्। सोको एक प्रति वा Submission Number लिई सम्वन्धित आन्तकरिक राजस्व कार्यालयमा सम्पर्क गरी आफ्नो व्यक्तिगत/व्यवसाइक स्थायी लेखा नम्बर प्रमाणपत्र प्राप्त गर्नुहोस्।\n"
     ]
    }
   ],
   "source": [
    "file_path=\"bhumika.txt\"\n",
    "file=open(file_path,encoding='utf-8-sig')\n",
    "print(file.read())\n",
    "#note:data file and python file in same location"
   ]
  },
  {
   "cell_type": "code",
   "execution_count": 9,
   "id": "84322d0b-5745-4321-8190-c3554a5485f5",
   "metadata": {},
   "outputs": [
    {
     "data": {
      "text/plain": [
       "['DirEntry',\n",
       " 'EX_OK',\n",
       " 'F_OK',\n",
       " 'GenericAlias',\n",
       " 'Mapping',\n",
       " 'MutableMapping',\n",
       " 'O_APPEND',\n",
       " 'O_BINARY',\n",
       " 'O_CREAT',\n",
       " 'O_EXCL',\n",
       " 'O_NOINHERIT',\n",
       " 'O_RANDOM',\n",
       " 'O_RDONLY',\n",
       " 'O_RDWR',\n",
       " 'O_SEQUENTIAL',\n",
       " 'O_SHORT_LIVED',\n",
       " 'O_TEMPORARY',\n",
       " 'O_TEXT',\n",
       " 'O_TRUNC',\n",
       " 'O_WRONLY',\n",
       " 'P_DETACH',\n",
       " 'P_NOWAIT',\n",
       " 'P_NOWAITO',\n",
       " 'P_OVERLAY',\n",
       " 'P_WAIT',\n",
       " 'PathLike',\n",
       " 'R_OK',\n",
       " 'SEEK_CUR',\n",
       " 'SEEK_END',\n",
       " 'SEEK_SET',\n",
       " 'TMP_MAX',\n",
       " 'W_OK',\n",
       " 'X_OK',\n",
       " '_AddedDllDirectory',\n",
       " '_Environ',\n",
       " '__all__',\n",
       " '__builtins__',\n",
       " '__doc__',\n",
       " '__file__',\n",
       " '__loader__',\n",
       " '__name__',\n",
       " '__package__',\n",
       " '__spec__',\n",
       " '_check_methods',\n",
       " '_execvpe',\n",
       " '_exists',\n",
       " '_exit',\n",
       " '_fspath',\n",
       " '_get_exports_list',\n",
       " '_walk_symlinks_as_files',\n",
       " '_wrap_close',\n",
       " 'abc',\n",
       " 'abort',\n",
       " 'access',\n",
       " 'add_dll_directory',\n",
       " 'altsep',\n",
       " 'chdir',\n",
       " 'chmod',\n",
       " 'close',\n",
       " 'closerange',\n",
       " 'cpu_count',\n",
       " 'curdir',\n",
       " 'defpath',\n",
       " 'device_encoding',\n",
       " 'devnull',\n",
       " 'dup',\n",
       " 'dup2',\n",
       " 'environ',\n",
       " 'error',\n",
       " 'execl',\n",
       " 'execle',\n",
       " 'execlp',\n",
       " 'execlpe',\n",
       " 'execv',\n",
       " 'execve',\n",
       " 'execvp',\n",
       " 'execvpe',\n",
       " 'extsep',\n",
       " 'fdopen',\n",
       " 'fsdecode',\n",
       " 'fsencode',\n",
       " 'fspath',\n",
       " 'fstat',\n",
       " 'fsync',\n",
       " 'ftruncate',\n",
       " 'get_blocking',\n",
       " 'get_exec_path',\n",
       " 'get_handle_inheritable',\n",
       " 'get_inheritable',\n",
       " 'get_terminal_size',\n",
       " 'getcwd',\n",
       " 'getcwdb',\n",
       " 'getenv',\n",
       " 'getlogin',\n",
       " 'getpid',\n",
       " 'getppid',\n",
       " 'isatty',\n",
       " 'kill',\n",
       " 'linesep',\n",
       " 'link',\n",
       " 'listdir',\n",
       " 'listdrives',\n",
       " 'listmounts',\n",
       " 'listvolumes',\n",
       " 'lseek',\n",
       " 'lstat',\n",
       " 'makedirs',\n",
       " 'mkdir',\n",
       " 'name',\n",
       " 'open',\n",
       " 'pardir',\n",
       " 'path',\n",
       " 'pathsep',\n",
       " 'pipe',\n",
       " 'popen',\n",
       " 'putenv',\n",
       " 'read',\n",
       " 'readlink',\n",
       " 'remove',\n",
       " 'removedirs',\n",
       " 'rename',\n",
       " 'renames',\n",
       " 'replace',\n",
       " 'rmdir',\n",
       " 'scandir',\n",
       " 'sep',\n",
       " 'set_blocking',\n",
       " 'set_handle_inheritable',\n",
       " 'set_inheritable',\n",
       " 'spawnl',\n",
       " 'spawnle',\n",
       " 'spawnv',\n",
       " 'spawnve',\n",
       " 'st',\n",
       " 'startfile',\n",
       " 'stat',\n",
       " 'stat_result',\n",
       " 'statvfs_result',\n",
       " 'strerror',\n",
       " 'supports_bytes_environ',\n",
       " 'supports_dir_fd',\n",
       " 'supports_effective_ids',\n",
       " 'supports_fd',\n",
       " 'supports_follow_symlinks',\n",
       " 'symlink',\n",
       " 'sys',\n",
       " 'system',\n",
       " 'terminal_size',\n",
       " 'times',\n",
       " 'times_result',\n",
       " 'truncate',\n",
       " 'umask',\n",
       " 'uname_result',\n",
       " 'unlink',\n",
       " 'unsetenv',\n",
       " 'urandom',\n",
       " 'utime',\n",
       " 'waitpid',\n",
       " 'waitstatus_to_exitcode',\n",
       " 'walk',\n",
       " 'write']"
      ]
     },
     "execution_count": 9,
     "metadata": {},
     "output_type": "execute_result"
    }
   ],
   "source": [
    "#change directory\n",
    "dir(os)"
   ]
  },
  {
   "cell_type": "code",
   "execution_count": 10,
   "id": "66ed7f33-0cc8-44e0-a8cb-70a977c4537a",
   "metadata": {},
   "outputs": [
    {
     "data": {
      "text/plain": [
       "'C:\\\\Users\\\\Bhuban Khadka\\\\Desktop'"
      ]
     },
     "execution_count": 10,
     "metadata": {},
     "output_type": "execute_result"
    }
   ],
   "source": [
    "os.getcwd()"
   ]
  },
  {
   "cell_type": "code",
   "execution_count": 11,
   "id": "8f400117-7877-4b8a-a38f-cf9403be1e05",
   "metadata": {},
   "outputs": [],
   "source": [
    "path=''\n",
    "os.chdir(path)"
   ]
  },
  {
   "cell_type": "code",
   "execution_count": 12,
   "id": "55d3668b-06d6-4f46-a61a-fd5dabaaa8bb",
   "metadata": {},
   "outputs": [
    {
     "data": {
      "text/plain": [
       "'C:\\\\Users\\\\Bhuban Khadka\\\\Desktop'"
      ]
     },
     "execution_count": 12,
     "metadata": {},
     "output_type": "execute_result"
    }
   ],
   "source": [
    "os.getcwd()"
   ]
  },
  {
   "cell_type": "code",
   "execution_count": 13,
   "id": "dbb4417f-bb8b-49bb-a1ac-5c89389770ae",
   "metadata": {},
   "outputs": [
    {
     "name": "stdout",
     "output_type": "stream",
     "text": [
      "Submission Number:-810068672197\n",
      "कृपया आफ्नो Username, Password र Submission Number सुरक्षित राख्नुहोस्। यहि Username र Password तपाईले आन्तरिक राजस्व विभागको अन्य E-SYSTEM हरु मा पनि प्रयोग गर्न सकिने छ।\n",
      "सम्पूर्ण आवश्यक विवरण, फोटो र परिचयपत्र प्रविष्ट गरीसकेपछि सेभ र सबमिट Button थिच्नुहोस् र \"Print Form\" मा क्लिक गरी प्रिन्ट निकाल्नुहोस्। सोको एक प्रति वा Submission Number लिई सम्वन्धित आन्तकरिक राजस्व कार्यालयमा सम्पर्क गरी आफ्नो व्यक्तिगत/व्यवसाइक स्थायी लेखा नम्बर प्रमाणपत्र प्राप्त गर्नुहोस्।\n"
     ]
    }
   ],
   "source": [
    "#-python and data file both in different location\n",
    "#u need to provide full path\n",
    "#in code u already changed the directory,where your data file existed\n",
    "file_path=\"C:\\\\Users\\\\Bhuban Khadka\\\\Documents\\\\bhumika.txt\"\n",
    "file=open(file_path,encoding='utf-8-sig')\n",
    "print(file.read())"
   ]
  },
  {
   "cell_type": "code",
   "execution_count": 18,
   "id": "bf6e6a2d-3563-4d55-89d0-829786ea71e8",
   "metadata": {},
   "outputs": [],
   "source": [
    "path='C:\\\\Users\\\\Bhuban Khadka\\\\Desktop'\n",
    "os.chdir(path)"
   ]
  },
  {
   "cell_type": "code",
   "execution_count": 19,
   "id": "0eef925a-6bac-4ced-8d16-49c992f95d05",
   "metadata": {},
   "outputs": [
    {
     "data": {
      "text/plain": [
       "'C:\\\\Users\\\\Bhuban Khadka\\\\Desktop'"
      ]
     },
     "execution_count": 19,
     "metadata": {},
     "output_type": "execute_result"
    }
   ],
   "source": [
    "os.getcwd()"
   ]
  },
  {
   "cell_type": "code",
   "execution_count": 20,
   "id": "1bb9816e-e2da-473a-bfa7-9fc9b54f7901",
   "metadata": {},
   "outputs": [
    {
     "name": "stdout",
     "output_type": "stream",
     "text": [
      "Submission Number:-810068672197\n",
      "कृपया आफ्नो Username, Password र Submission Number सुरक्षित राख्नुहोस्। यहि Username र Password तपाईले आन्तरिक राजस्व विभागको अन्य E-SYSTEM हरु मा पनि प्रयोग गर्न सकिने छ।\n",
      "सम्पूर्ण आवश्यक विवरण, फोटो र परिचयपत्र प्रविष्ट गरीसकेपछि सेभ र सबमिट Button थिच्नुहोस् र \"Print Form\" मा क्लिक गरी प्रिन्ट निकाल्नुहोस्। सोको एक प्रति वा Submission Number लिई सम्वन्धित आन्तकरिक राजस्व कार्यालयमा सम्पर्क गरी आफ्नो व्यक्तिगत/व्यवसाइक स्थायी लेखा नम्बर प्रमाणपत्र प्राप्त गर्नुहोस्।\n"
     ]
    }
   ],
   "source": [
    "file_path=\"C:\\\\Users\\\\Bhuban Khadka\\\\Documents\\\\bhumika.txt\"\n",
    "file=open(file_path,encoding='utf-8-sig')\n",
    "print(file.read())"
   ]
  },
  {
   "cell_type": "code",
   "execution_count": null,
   "id": "6c6fa25d-3aba-4a2a-ade4-13ef112cf4d2",
   "metadata": {},
   "outputs": [],
   "source": [
    "#keep pythonand data file\n",
    "#now i will not change my data file\n",
    "#os.chdir(<path>)"
   ]
  },
  {
   "cell_type": "raw",
   "id": "98252177-3b02-492c-a784-2a27733bc465",
   "metadata": {},
   "source": [
    "-hard core is there,this should be reduce\n",
    "-many lines===single lines\n",
    "-is your full run at any place"
   ]
  },
  {
   "cell_type": "code",
   "execution_count": 20,
   "id": "4c41f82b-1aa3-41db-8238-71e9b92cbb2a",
   "metadata": {},
   "outputs": [],
   "source": [
    "path='C:\\\\Users\\\\Bhuban Khadka'\n",
    "os.chdir(path)"
   ]
  },
  {
   "cell_type": "code",
   "execution_count": 21,
   "id": "eb21bfbd-5d92-4a69-b579-f7edaf931328",
   "metadata": {},
   "outputs": [
    {
     "data": {
      "text/plain": [
       "'C:\\\\Users\\\\Bhuban Khadka'"
      ]
     },
     "execution_count": 21,
     "metadata": {},
     "output_type": "execute_result"
    }
   ],
   "source": [
    "os.getcwd()"
   ]
  },
  {
   "cell_type": "markdown",
   "id": "5dc4fa29-ce6b-4232-9031-150d68260fd6",
   "metadata": {},
   "source": [
    "$with$"
   ]
  },
  {
   "cell_type": "code",
   "execution_count": 23,
   "id": "828c5554-281c-4e3b-9fa3-1b24fadade22",
   "metadata": {},
   "outputs": [
    {
     "ename": "ValueError",
     "evalue": "I/O operation on closed file.",
     "output_type": "error",
     "traceback": [
      "\u001b[1;31m---------------------------------------------------------------------------\u001b[0m",
      "\u001b[1;31mValueError\u001b[0m                                Traceback (most recent call last)",
      "Cell \u001b[1;32mIn[23], line 1\u001b[0m\n\u001b[1;32m----> 1\u001b[0m file\u001b[38;5;241m.\u001b[39mread()\n",
      "\u001b[1;31mValueError\u001b[0m: I/O operation on closed file."
     ]
    }
   ],
   "source": [
    "file.read()"
   ]
  },
  {
   "cell_type": "code",
   "execution_count": 22,
   "id": "d1344a92-6c36-4180-9a9b-8a3d4b97f46e",
   "metadata": {},
   "outputs": [
    {
     "ename": "ValueError",
     "evalue": "I/O operation on closed file.",
     "output_type": "error",
     "traceback": [
      "\u001b[1;31m---------------------------------------------------------------------------\u001b[0m",
      "\u001b[1;31mValueError\u001b[0m                                Traceback (most recent call last)",
      "Cell \u001b[1;32mIn[22], line 1\u001b[0m\n\u001b[1;32m----> 1\u001b[0m file\u001b[38;5;241m.\u001b[39mread()\n",
      "\u001b[1;31mValueError\u001b[0m: I/O operation on closed file."
     ]
    }
   ],
   "source": [
    "file.read()"
   ]
  },
  {
   "cell_type": "code",
   "execution_count": 29,
   "id": "0cc7f1ba-066f-455b-a9ff-238186993ffd",
   "metadata": {},
   "outputs": [
    {
     "data": {
      "text/plain": [
       "<_io.TextIOWrapper name='C:\\\\Users\\\\Bhuban Khadka\\\\Documents\\\\bhumika.txt' mode='r' encoding='utf-8-sig'>"
      ]
     },
     "execution_count": 29,
     "metadata": {},
     "output_type": "execute_result"
    }
   ],
   "source": [
    "file"
   ]
  },
  {
   "cell_type": "code",
   "execution_count": 6,
   "id": "0e336d29-dcc9-4678-8606-1586c2fb422a",
   "metadata": {},
   "outputs": [
    {
     "data": {
      "text/plain": [
       "<function TextIOWrapper.read(size=-1, /)>"
      ]
     },
     "execution_count": 6,
     "metadata": {},
     "output_type": "execute_result"
    }
   ],
   "source": [
    "file_path=\"C:\\\\Users\\\\Bhuban Khadka\\\\Documents\\\\bhumika.txt\"\n",
    "file=open(file_path)\n",
    "file.read"
   ]
  },
  {
   "cell_type": "code",
   "execution_count": 17,
   "id": "efb95081-4eae-48fc-b286-20bf9921e7f1",
   "metadata": {},
   "outputs": [
    {
     "ename": "UnicodeDecodeError",
     "evalue": "'charmap' codec can't decode byte 0x8d in position 57: character maps to <undefined>",
     "output_type": "error",
     "traceback": [
      "\u001b[1;31m---------------------------------------------------------------------------\u001b[0m",
      "\u001b[1;31mUnicodeDecodeError\u001b[0m                        Traceback (most recent call last)",
      "Cell \u001b[1;32mIn[17], line 3\u001b[0m\n\u001b[0;32m      1\u001b[0m file_path\u001b[38;5;241m=\u001b[39m\u001b[38;5;124m\"\u001b[39m\u001b[38;5;124mC:\u001b[39m\u001b[38;5;130;01m\\\\\u001b[39;00m\u001b[38;5;124mUsers\u001b[39m\u001b[38;5;130;01m\\\\\u001b[39;00m\u001b[38;5;124mBhuban Khadka\u001b[39m\u001b[38;5;130;01m\\\\\u001b[39;00m\u001b[38;5;124mDocuments\u001b[39m\u001b[38;5;130;01m\\\\\u001b[39;00m\u001b[38;5;124mbhumika.txt\u001b[39m\u001b[38;5;124m\"\u001b[39m\n\u001b[0;32m      2\u001b[0m \u001b[38;5;28;01mwith\u001b[39;00m \u001b[38;5;28mopen\u001b[39m(file_path) \u001b[38;5;28;01mas\u001b[39;00m file:\n\u001b[1;32m----> 3\u001b[0m     data\u001b[38;5;241m=\u001b[39mfile\u001b[38;5;241m.\u001b[39mread()\n\u001b[0;32m      4\u001b[0m \u001b[38;5;28mprint\u001b[39m(data)\n",
      "File \u001b[1;32m~\\anaconda3\\Lib\\encodings\\cp1252.py:23\u001b[0m, in \u001b[0;36mIncrementalDecoder.decode\u001b[1;34m(self, input, final)\u001b[0m\n\u001b[0;32m     22\u001b[0m \u001b[38;5;28;01mdef\u001b[39;00m \u001b[38;5;21mdecode\u001b[39m(\u001b[38;5;28mself\u001b[39m, \u001b[38;5;28minput\u001b[39m, final\u001b[38;5;241m=\u001b[39m\u001b[38;5;28;01mFalse\u001b[39;00m):\n\u001b[1;32m---> 23\u001b[0m     \u001b[38;5;28;01mreturn\u001b[39;00m codecs\u001b[38;5;241m.\u001b[39mcharmap_decode(\u001b[38;5;28minput\u001b[39m,\u001b[38;5;28mself\u001b[39m\u001b[38;5;241m.\u001b[39merrors,decoding_table)[\u001b[38;5;241m0\u001b[39m]\n",
      "\u001b[1;31mUnicodeDecodeError\u001b[0m: 'charmap' codec can't decode byte 0x8d in position 57: character maps to <undefined>"
     ]
    }
   ],
   "source": [
    "file_path=\"C:\\\\Users\\\\Bhuban Khadka\\\\Documents\\\\bhumika.txt\"\n",
    "with open(file_path) as file:\n",
    "    data=file.read()\n",
    "print(data)"
   ]
  },
  {
   "cell_type": "raw",
   "id": "51ab8bbb-0af6-4e6b-8b96-18964329d186",
   "metadata": {},
   "source": []
  },
  {
   "cell_type": "code",
   "execution_count": 12,
   "id": "b0b78a30-e2af-45b9-ad06-f8fca66fc78c",
   "metadata": {},
   "outputs": [
    {
     "ename": "FileNotFoundError",
     "evalue": "[Errno 2] No such file or directory: 'bhumika.txt'",
     "output_type": "error",
     "traceback": [
      "\u001b[1;31m---------------------------------------------------------------------------\u001b[0m",
      "\u001b[1;31mFileNotFoundError\u001b[0m                         Traceback (most recent call last)",
      "Cell \u001b[1;32mIn[12], line 2\u001b[0m\n\u001b[0;32m      1\u001b[0m file_path\u001b[38;5;241m=\u001b[39m\u001b[38;5;124m\"\u001b[39m\u001b[38;5;124mbhumika.txt\u001b[39m\u001b[38;5;124m\"\u001b[39m\n\u001b[1;32m----> 2\u001b[0m file\u001b[38;5;241m=\u001b[39m\u001b[38;5;28mopen\u001b[39m(file_path)\n\u001b[0;32m      3\u001b[0m \u001b[38;5;28mprint\u001b[39m(file\u001b[38;5;241m.\u001b[39mread())\n",
      "File \u001b[1;32m~\\anaconda3\\Lib\\site-packages\\IPython\\core\\interactiveshell.py:324\u001b[0m, in \u001b[0;36m_modified_open\u001b[1;34m(file, *args, **kwargs)\u001b[0m\n\u001b[0;32m    317\u001b[0m \u001b[38;5;28;01mif\u001b[39;00m file \u001b[38;5;129;01min\u001b[39;00m {\u001b[38;5;241m0\u001b[39m, \u001b[38;5;241m1\u001b[39m, \u001b[38;5;241m2\u001b[39m}:\n\u001b[0;32m    318\u001b[0m     \u001b[38;5;28;01mraise\u001b[39;00m \u001b[38;5;167;01mValueError\u001b[39;00m(\n\u001b[0;32m    319\u001b[0m         \u001b[38;5;124mf\u001b[39m\u001b[38;5;124m\"\u001b[39m\u001b[38;5;124mIPython won\u001b[39m\u001b[38;5;124m'\u001b[39m\u001b[38;5;124mt let you open fd=\u001b[39m\u001b[38;5;132;01m{\u001b[39;00mfile\u001b[38;5;132;01m}\u001b[39;00m\u001b[38;5;124m by default \u001b[39m\u001b[38;5;124m\"\u001b[39m\n\u001b[0;32m    320\u001b[0m         \u001b[38;5;124m\"\u001b[39m\u001b[38;5;124mas it is likely to crash IPython. If you know what you are doing, \u001b[39m\u001b[38;5;124m\"\u001b[39m\n\u001b[0;32m    321\u001b[0m         \u001b[38;5;124m\"\u001b[39m\u001b[38;5;124myou can use builtins\u001b[39m\u001b[38;5;124m'\u001b[39m\u001b[38;5;124m open.\u001b[39m\u001b[38;5;124m\"\u001b[39m\n\u001b[0;32m    322\u001b[0m     )\n\u001b[1;32m--> 324\u001b[0m \u001b[38;5;28;01mreturn\u001b[39;00m io_open(file, \u001b[38;5;241m*\u001b[39margs, \u001b[38;5;241m*\u001b[39m\u001b[38;5;241m*\u001b[39mkwargs)\n",
      "\u001b[1;31mFileNotFoundError\u001b[0m: [Errno 2] No such file or directory: 'bhumika.txt'"
     ]
    }
   ],
   "source": []
  },
  {
   "cell_type": "code",
   "execution_count": null,
   "id": "c59bc240-7598-48c6-9014-a2ff75aea5ca",
   "metadata": {},
   "outputs": [],
   "source": []
  }
 ],
 "metadata": {
  "kernelspec": {
   "display_name": "Python [conda env:base] *",
   "language": "python",
   "name": "conda-base-py"
  },
  "language_info": {
   "codemirror_mode": {
    "name": "ipython",
    "version": 3
   },
   "file_extension": ".py",
   "mimetype": "text/x-python",
   "name": "python",
   "nbconvert_exporter": "python",
   "pygments_lexer": "ipython3",
   "version": "3.12.7"
  }
 },
 "nbformat": 4,
 "nbformat_minor": 5
}
