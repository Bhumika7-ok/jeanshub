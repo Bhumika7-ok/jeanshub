{
 "cells": [
  {
   "cell_type": "code",
   "execution_count": 1,
   "id": "c33df65a-1875-4469-a6b4-33fac26f0542",
   "metadata": {},
   "outputs": [
    {
     "data": {
      "text/plain": [
       "['__class__',\n",
       " '__class_getitem__',\n",
       " '__contains__',\n",
       " '__delattr__',\n",
       " '__delitem__',\n",
       " '__dir__',\n",
       " '__doc__',\n",
       " '__eq__',\n",
       " '__format__',\n",
       " '__ge__',\n",
       " '__getattribute__',\n",
       " '__getitem__',\n",
       " '__getstate__',\n",
       " '__gt__',\n",
       " '__hash__',\n",
       " '__init__',\n",
       " '__init_subclass__',\n",
       " '__ior__',\n",
       " '__iter__',\n",
       " '__le__',\n",
       " '__len__',\n",
       " '__lt__',\n",
       " '__ne__',\n",
       " '__new__',\n",
       " '__or__',\n",
       " '__reduce__',\n",
       " '__reduce_ex__',\n",
       " '__repr__',\n",
       " '__reversed__',\n",
       " '__ror__',\n",
       " '__setattr__',\n",
       " '__setitem__',\n",
       " '__sizeof__',\n",
       " '__str__',\n",
       " '__subclasshook__',\n",
       " 'clear',\n",
       " 'copy',\n",
       " 'fromkeys',\n",
       " 'get',\n",
       " 'items',\n",
       " 'keys',\n",
       " 'pop',\n",
       " 'popitem',\n",
       " 'setdefault',\n",
       " 'update',\n",
       " 'values']"
      ]
     },
     "execution_count": 1,
     "metadata": {},
     "output_type": "execute_result"
    }
   ],
   "source": [
    "dir({})"
   ]
  },
  {
   "cell_type": "markdown",
   "id": "113b0966-ddc2-4fbc-b113-edfe738c4da7",
   "metadata": {},
   "source": [
    "$'clear',$\n",
    "$ 'copy$"
   ]
  },
  {
   "cell_type": "code",
   "execution_count": 17,
   "id": "1556e8bd-ee02-4cbc-acfb-f802000e9e14",
   "metadata": {},
   "outputs": [
    {
     "name": "stdout",
     "output_type": "stream",
     "text": [
      "{}\n",
      "{'a': 100, 'b': 400, 'c': 200, 'd': 600}\n"
     ]
    }
   ],
   "source": [
    "#take one dictionary\n",
    "#take second dictionary\n",
    "#copy first dic into second\n",
    "#clear first dic\n",
    "#print both\n",
    "d1={'a':100,'b':400,'c':200,'d':600}\n",
    "d2=d1.copy()\n",
    "d1.clear()\n",
    "print(d1)\n",
    "print(d2)\n"
   ]
  },
  {
   "cell_type": "markdown",
   "id": "87030c49-a570-4205-9c59-1254414d0bf1",
   "metadata": {},
   "source": [
    "$pop'$,$'popitem'$ $del$"
   ]
  },
  {
   "cell_type": "raw",
   "id": "8d64a686-3409-4b57-898f-dd8a4a67bc76",
   "metadata": {},
   "source": [
    "what is pop\n",
    "-pop will remove specify key\n",
    "-return item"
   ]
  },
  {
   "cell_type": "code",
   "execution_count": 15,
   "id": "9741ae37-0f41-45ad-9156-4d1c152721d2",
   "metadata": {},
   "outputs": [
    {
     "data": {
      "text/plain": [
       "{}"
      ]
     },
     "execution_count": 15,
     "metadata": {},
     "output_type": "execute_result"
    }
   ],
   "source": [
    "d2"
   ]
  },
  {
   "cell_type": "code",
   "execution_count": 18,
   "id": "e709f57b-3fda-4656-8aa5-be5f67d23c41",
   "metadata": {},
   "outputs": [
    {
     "data": {
      "text/plain": [
       "100"
      ]
     },
     "execution_count": 18,
     "metadata": {},
     "output_type": "execute_result"
    }
   ],
   "source": [
    "d2.pop('a')"
   ]
  },
  {
   "cell_type": "code",
   "execution_count": 19,
   "id": "e7eb0e59-e939-4a21-b4bc-96a9cbae2d79",
   "metadata": {},
   "outputs": [
    {
     "data": {
      "text/plain": [
       "400"
      ]
     },
     "execution_count": 19,
     "metadata": {},
     "output_type": "execute_result"
    }
   ],
   "source": [
    "d2.pop('b')"
   ]
  },
  {
   "cell_type": "raw",
   "id": "ef857d30-7deb-4382-9ecf-6311e0f9aa3a",
   "metadata": {},
   "source": [
    "what is pop item\n",
    "-remove the last value default"
   ]
  },
  {
   "cell_type": "code",
   "execution_count": 20,
   "id": "bee4c4fa-e987-4246-9ea2-1f41a1d69b6d",
   "metadata": {},
   "outputs": [
    {
     "data": {
      "text/plain": [
       "('d', 600)"
      ]
     },
     "execution_count": 20,
     "metadata": {},
     "output_type": "execute_result"
    }
   ],
   "source": [
    "d2.popitem()"
   ]
  },
  {
   "cell_type": "code",
   "execution_count": 38,
   "id": "0519f05f-fe25-4617-a060-7b56c3f0f0bc",
   "metadata": {},
   "outputs": [
    {
     "name": "stdout",
     "output_type": "stream",
     "text": [
      "{}\n",
      "{'a': 100, 'b': 400, 'c': 200, 'd': 600}\n"
     ]
    }
   ],
   "source": [
    "d1={'a':100,'b':400,'c':200,'d':600}\n",
    "d2=d1.copy()\n",
    "d1.clear()\n",
    "print(d1)\n",
    "print(d2)\n"
   ]
  },
  {
   "cell_type": "code",
   "execution_count": 39,
   "id": "7ea12b0d-a225-4045-a3d9-41e3f003df33",
   "metadata": {},
   "outputs": [],
   "source": [
    "del d2['c']"
   ]
  },
  {
   "cell_type": "code",
   "execution_count": 40,
   "id": "ec77c033-5048-4ce5-802b-3b7855feb194",
   "metadata": {},
   "outputs": [
    {
     "data": {
      "text/plain": [
       "{'a': 100, 'b': 400, 'd': 600}"
      ]
     },
     "execution_count": 40,
     "metadata": {},
     "output_type": "execute_result"
    }
   ],
   "source": [
    "d2"
   ]
  },
  {
   "cell_type": "code",
   "execution_count": 30,
   "id": "d688525d-cf8f-4881-846b-433b64f0391c",
   "metadata": {},
   "outputs": [],
   "source": [
    "#del is a keyword\n",
    "l1=[10,20,30,40]\n",
    "del l1[1]"
   ]
  },
  {
   "cell_type": "code",
   "execution_count": 41,
   "id": "bb6e55b0-5bac-4826-bbb0-070ed7bf5ddb",
   "metadata": {},
   "outputs": [
    {
     "data": {
      "text/plain": [
       "[10, 30, 40]"
      ]
     },
     "execution_count": 41,
     "metadata": {},
     "output_type": "execute_result"
    }
   ],
   "source": [
    "l1"
   ]
  },
  {
   "cell_type": "raw",
   "id": "09b2675b-1d6b-4908-94f3-a2c391ac8402",
   "metadata": {},
   "source": [
    "what is del\n",
    "del is a keyword\n",
    "it can delete an item by providing specific key"
   ]
  },
  {
   "cell_type": "code",
   "execution_count": 44,
   "id": "268ae4bc-4644-4af0-bcb3-e0650ccd97a2",
   "metadata": {},
   "outputs": [],
   "source": [
    "del(d2)"
   ]
  },
  {
   "cell_type": "code",
   "execution_count": 46,
   "id": "c489be4c-6a14-4ef6-a5ae-b75c4b21bc9e",
   "metadata": {},
   "outputs": [],
   "source": [
    "d1={'a':3, 'b':2, 'c':5}\n",
    "del d1['c']\n",
    "del.pop('c')\n",
    "d1.popitem()\n",
    "del (d1)"
   ]
  },
  {
   "cell_type": "markdown",
   "id": "93d4f008-0f73-4d40-be32-fbe9f92fb3bd",
   "metadata": {},
   "source": [
    "$from keys$-$get$"
   ]
  },
  {
   "cell_type": "code",
   "execution_count": 47,
   "id": "cc457313-d90e-4411-9cbd-a9a6334892db",
   "metadata": {},
   "outputs": [
    {
     "data": {
      "text/plain": [
       "30"
      ]
     },
     "execution_count": 47,
     "metadata": {},
     "output_type": "execute_result"
    }
   ],
   "source": [
    "d1={'a':20,'b':30,'c':40,'d':500}\n",
    "d1['b']"
   ]
  },
  {
   "cell_type": "code",
   "execution_count": 48,
   "id": "1e27b345-567f-4d59-aef4-2bd94a084130",
   "metadata": {},
   "outputs": [
    {
     "data": {
      "text/plain": [
       "30"
      ]
     },
     "execution_count": 48,
     "metadata": {},
     "output_type": "execute_result"
    }
   ],
   "source": [
    "d1.get('b')"
   ]
  },
  {
   "cell_type": "code",
   "execution_count": 49,
   "id": "080b213d-4e39-4a18-82a4-989fad455a0c",
   "metadata": {},
   "outputs": [],
   "source": [
    "d1.get('z')#no error\n",
    "#how many ways we can do\n",
    "#what output itis returning\n",
    "#what is the difference\n",
    "#we can acess the values by providibg key as index and key in get method\n",
    "#but if the key is not present in dictionary,key as index will give key error\n",
    "#get method will not return anything and no error\n"
   ]
  },
  {
   "cell_type": "code",
   "execution_count": 50,
   "id": "1910cd9c-f756-4bfc-8fda-03a9789d19ed",
   "metadata": {},
   "outputs": [],
   "source": [
    "#from keys creates a new dictionary\n",
    "#a new dictionary from the given sequence of elemens\n",
    "#create new dictionary with irerable key"
   ]
  },
  {
   "cell_type": "code",
   "execution_count": 52,
   "id": "077c9487-6d58-430b-84cd-1ff772ab6302",
   "metadata": {},
   "outputs": [
    {
     "data": {
      "text/plain": [
       "{'R': 25, 'a': 25, 'h': 25, 'e': 25, 'm': 25}"
      ]
     },
     "execution_count": 52,
     "metadata": {},
     "output_type": "execute_result"
    }
   ],
   "source": [
    "d2=d1.fromkeys('Raheem',25)\n",
    "d2"
   ]
  },
  {
   "cell_type": "code",
   "execution_count": 53,
   "id": "77f1e576-e856-48c2-8cf1-6191a8e04e5c",
   "metadata": {},
   "outputs": [
    {
     "data": {
      "text/plain": [
       "{'a': 20, 'b': 30, 'c': 40, 'd': 500}"
      ]
     },
     "execution_count": 53,
     "metadata": {},
     "output_type": "execute_result"
    }
   ],
   "source": [
    "d1"
   ]
  },
  {
   "cell_type": "code",
   "execution_count": 54,
   "id": "01ee5883-9a02-4ef9-97f3-88c7a9ed34c6",
   "metadata": {},
   "outputs": [
    {
     "data": {
      "text/plain": [
       "{'R': 25, 'a': 25, 'h': 25, 'e': 25, 'm': 25}"
      ]
     },
     "execution_count": 54,
     "metadata": {},
     "output_type": "execute_result"
    }
   ],
   "source": [
    "d2"
   ]
  },
  {
   "cell_type": "code",
   "execution_count": 56,
   "id": "624bba87-e31d-4b47-9d56-ba22b98d6e8b",
   "metadata": {},
   "outputs": [
    {
     "data": {
      "text/plain": [
       "'Bhumika'"
      ]
     },
     "execution_count": 56,
     "metadata": {},
     "output_type": "execute_result"
    }
   ],
   "source": [
    "name='bhumika'\n",
    "name.capitalize()"
   ]
  },
  {
   "cell_type": "code",
   "execution_count": 57,
   "id": "c52b0563-c18e-41ea-96c4-2d2592cda4e1",
   "metadata": {},
   "outputs": [
    {
     "data": {
      "text/plain": [
       "'bhumika'"
      ]
     },
     "execution_count": 57,
     "metadata": {},
     "output_type": "execute_result"
    }
   ],
   "source": [
    "name"
   ]
  },
  {
   "cell_type": "code",
   "execution_count": 58,
   "id": "126ce7e7-dcbd-43b2-ad68-3747558a3b5a",
   "metadata": {},
   "outputs": [
    {
     "data": {
      "text/plain": [
       "{1: 'odd', 3: 'odd', 5: 'odd'}"
      ]
     },
     "execution_count": 58,
     "metadata": {},
     "output_type": "execute_result"
    }
   ],
   "source": [
    "d3={}.fromkeys([1,3,5],'odd')\n",
    "d3"
   ]
  },
  {
   "cell_type": "code",
   "execution_count": 59,
   "id": "9b1ed7dc-b847-431c-aa80-fe9796604632",
   "metadata": {},
   "outputs": [
    {
     "name": "stdout",
     "output_type": "stream",
     "text": [
      "1\n",
      "3\n",
      "5\n"
     ]
    }
   ],
   "source": [
    "for i in [1,3,5]:\n",
    "    print(i)"
   ]
  },
  {
   "cell_type": "markdown",
   "id": "3b8b7f7f-3d11-4cc2-98ce-33e37ec8833c",
   "metadata": {},
   "source": [
    "$set as default$"
   ]
  },
  {
   "cell_type": "markdown",
   "id": "1c004983-a4a7-4a55-8891-bd7faedc88eb",
   "metadata": {},
   "source": [
    "return value of key\n",
    ",if key is not present returns default"
   ]
  },
  {
   "cell_type": "code",
   "execution_count": 60,
   "id": "ed91622b-036f-457c-a390-9fcbdc25e6a6",
   "metadata": {},
   "outputs": [
    {
     "data": {
      "text/plain": [
       "{'bhumika': 'ds', 'city': None}"
      ]
     },
     "execution_count": 60,
     "metadata": {},
     "output_type": "execute_result"
    }
   ],
   "source": [
    "d1={}\n",
    "d1.setdefault('bhumika','ds')\n",
    "d1.setdefault('city')\n",
    "d1"
   ]
  },
  {
   "cell_type": "code",
   "execution_count": 65,
   "id": "f3ae00db-95f1-4740-8152-e697e5abc7a8",
   "metadata": {},
   "outputs": [
    {
     "data": {
      "text/plain": [
       "{'bhumika': ['ds', 'mlops', 'de'], 'city': None}"
      ]
     },
     "execution_count": 65,
     "metadata": {},
     "output_type": "execute_result"
    }
   ],
   "source": [
    "d1={}\n",
    "d1.setdefault('bhumika','ds')\n",
    "d1.setdefault('city')\n",
    "d1.setdefault('bhumika',['ds','mlops','de'])#repeat ones will not show until\n",
    "#and unless you rename again\n",
    "d1['bhumika']=['ds','mlops','de']#FOR CHANGE\n",
    "d1\n",
    "d1.setdefault('city','hyd')#unrepeated value will be shown\n",
    "d1"
   ]
  },
  {
   "cell_type": "markdown",
   "id": "5389f11d-90c1-49dd-801d-a3f2abf7c1b5",
   "metadata": {},
   "source": [
    "$update$"
   ]
  },
  {
   "cell_type": "code",
   "execution_count": 66,
   "id": "cfdc44a7-9d08-467b-98f9-447cd75ad55e",
   "metadata": {},
   "outputs": [],
   "source": [
    "#it inserts particular items to the dictionry"
   ]
  },
  {
   "cell_type": "code",
   "execution_count": 70,
   "id": "4d19b74a-24ed-4d5d-9f59-d247ea4283bc",
   "metadata": {},
   "outputs": [
    {
     "name": "stdout",
     "output_type": "stream",
     "text": [
      "{'a': 1, 'b': 2, 'c': 3, 'd': 9}\n"
     ]
    }
   ],
   "source": [
    "d1={'a':1,'b':2,'c':3}\n",
    "d2={'b':2,'d':9}\n",
    "d1.updat(d2)\n",
    "print(d1)#duplicates not allowed"
   ]
  },
  {
   "cell_type": "code",
   "execution_count": 73,
   "id": "737f783f-26ca-4b46-9d1f-89f755d1853d",
   "metadata": {},
   "outputs": [
    {
     "name": "stdout",
     "output_type": "stream",
     "text": [
      "{'b': 2, 'd': 9, 'a': 1, 'c': 3}\n"
     ]
    }
   ],
   "source": [
    "d1={'a':1,'b':2,'c':3}\n",
    "d2={'b':2,'d':9}\n",
    "d2.update(d1)\n",
    "print(d2)"
   ]
  },
  {
   "cell_type": "code",
   "execution_count": null,
   "id": "c9f53810-12bb-4cf3-80ef-99e0770093e7",
   "metadata": {},
   "outputs": [],
   "source": [
    "#update method will update a dictionary with elements from another dictionary\n",
    "#it modifies the dictionary"
   ]
  },
  {
   "cell_type": "code",
   "execution_count": 69,
   "id": "00381027-51ba-459a-bee6-3b0d2c3f5008",
   "metadata": {},
   "outputs": [
    {
     "data": {
      "text/plain": [
       "[1, 2, 3, 2, 5]"
      ]
     },
     "execution_count": 69,
     "metadata": {},
     "output_type": "execute_result"
    }
   ],
   "source": [
    "l1=[1,2,3]\n",
    "l2=[2,5]\n",
    "l1.extend(l2)#duplicates allowed\n",
    "l1"
   ]
  },
  {
   "cell_type": "code",
   "execution_count": 74,
   "id": "19d2dc08-2095-4e26-a4d6-367993cc3af2",
   "metadata": {},
   "outputs": [
    {
     "data": {
      "text/plain": [
       "{1: 3, 2: 3}"
      ]
     },
     "execution_count": 74,
     "metadata": {},
     "output_type": "execute_result"
    }
   ],
   "source": [
    "#for eg\n",
    "c1=[(1,3),(2,3)]\n",
    "d1={}\n",
    "d1.update(c1)\n",
    "d1\n",
    "    \n"
   ]
  },
  {
   "cell_type": "code",
   "execution_count": null,
   "id": "cb985fbb-f222-473f-9190-d3ec41a0f4c9",
   "metadata": {},
   "outputs": [],
   "source": [
    "#article on tuple including:\n",
    "#how to read\n",
    "#type/max/min/len/sum\n",
    "#index/mutable\n",
    "#in/"
   ]
  },
  {
   "cell_type": "markdown",
   "id": "100af1b9-8b92-40a9-bdca-49ba74b05d8f",
   "metadata": {},
   "source": [
    "$lamda$"
   ]
  },
  {
   "cell_type": "code",
   "execution_count": 1,
   "id": "966a6c1f-4f25-4d5e-bc21-b1268696cc29",
   "metadata": {},
   "outputs": [
    {
     "data": {
      "text/plain": [
       "30"
      ]
     },
     "execution_count": 1,
     "metadata": {},
     "output_type": "execute_result"
    }
   ],
   "source": [
    "#create \n",
    "def add(x):\n",
    "    return(x+10)\n",
    "add(20)"
   ]
  },
  {
   "cell_type": "code",
   "execution_count": 2,
   "id": "d6564803-0f87-4217-8212-6b144e1b2ae3",
   "metadata": {},
   "outputs": [
    {
     "data": {
      "text/plain": [
       "30"
      ]
     },
     "execution_count": 2,
     "metadata": {},
     "output_type": "execute_result"
    }
   ],
   "source": [
    "def add(a):\n",
    "    return(a+10)\n",
    "add(20)"
   ]
  },
  {
   "cell_type": "code",
   "execution_count": null,
   "id": "76a877b5-f58c-4941-9051-363e0a14bbf8",
   "metadata": {},
   "outputs": [],
   "source": [
    "#how mny arguments are present?x\n",
    "#what youare returning>x+10\n",
    "#format:lamda<argument_name>:<output>\n"
   ]
  },
  {
   "cell_type": "code",
   "execution_count": 5,
   "id": "b18367ab-86e7-4cd5-87ff-15fe75ba0390",
   "metadata": {},
   "outputs": [
    {
     "data": {
      "text/plain": [
       "30"
      ]
     },
     "execution_count": 5,
     "metadata": {},
     "output_type": "execute_result"
    }
   ],
   "source": [
    "add=lambda x:x+10\n",
    "add(20)"
   ]
  },
  {
   "cell_type": "code",
   "execution_count": 8,
   "id": "5b661de5-e1ac-4388-983d-40be3e3e98a4",
   "metadata": {},
   "outputs": [
    {
     "data": {
      "text/plain": [
       "4"
      ]
     },
     "execution_count": 8,
     "metadata": {},
     "output_type": "execute_result"
    }
   ],
   "source": [
    "sq=lambda b:b*b\n",
    "sq(2)"
   ]
  },
  {
   "cell_type": "code",
   "execution_count": 9,
   "id": "94492865-caa1-4102-ac25-0c11d0278505",
   "metadata": {},
   "outputs": [
    {
     "data": {
      "text/plain": [
       "64"
      ]
     },
     "execution_count": 9,
     "metadata": {},
     "output_type": "execute_result"
    }
   ],
   "source": [
    "cube=lambda c:c*c*c\n",
    "cube(4)"
   ]
  },
  {
   "cell_type": "markdown",
   "id": "b591b144-5e70-434e-a9ce-eb9e6e8916e9",
   "metadata": {},
   "source": [
    "$two arguments$"
   ]
  },
  {
   "cell_type": "code",
   "execution_count": 10,
   "id": "55757a7a-93b5-4240-9796-08c9ab477d74",
   "metadata": {},
   "outputs": [
    {
     "data": {
      "text/plain": [
       "30"
      ]
     },
     "execution_count": 10,
     "metadata": {},
     "output_type": "execute_result"
    }
   ],
   "source": [
    "def add(a,b):\n",
    "    return(a+b)\n",
    "add(10,20)"
   ]
  },
  {
   "cell_type": "code",
   "execution_count": 12,
   "id": "6a8809c2-44db-4626-9423-59e6d4954ced",
   "metadata": {},
   "outputs": [
    {
     "data": {
      "text/plain": [
       "7"
      ]
     },
     "execution_count": 12,
     "metadata": {},
     "output_type": "execute_result"
    }
   ],
   "source": [
    "add=lambda a,b:a+b\n",
    "add(2,5)"
   ]
  },
  {
   "cell_type": "code",
   "execution_count": 14,
   "id": "62fd8078-a275-4a7a-910e-6c6ac09929d0",
   "metadata": {},
   "outputs": [
    {
     "data": {
      "text/plain": [
       "20.0"
      ]
     },
     "execution_count": 14,
     "metadata": {},
     "output_type": "execute_result"
    }
   ],
   "source": [
    "#implement the avg of 3 no using lambda\n",
    "avg=lambda a,b,c:(a+b+c)/3\n",
    "avg(10,20,30)"
   ]
  },
  {
   "cell_type": "code",
   "execution_count": 17,
   "id": "d0aa83fb-4da7-41e1-9bb4-15e942a22936",
   "metadata": {},
   "outputs": [
    {
     "data": {
      "text/plain": [
       "46.67"
      ]
     },
     "execution_count": 17,
     "metadata": {},
     "output_type": "execute_result"
    }
   ],
   "source": [
    "#implement avg make c as default parameter\n",
    "avg=lambda a,b,c=90: round((a+b+c)/3,2)\n",
    "avg(20,30)"
   ]
  },
  {
   "cell_type": "code",
   "execution_count": 18,
   "id": "7450424e-5a66-48d4-b01a-c875b19180b4",
   "metadata": {},
   "outputs": [
    {
     "data": {
      "text/plain": [
       "46.67"
      ]
     },
     "execution_count": 18,
     "metadata": {},
     "output_type": "execute_result"
    }
   ],
   "source": [
    "round(46.666,2)"
   ]
  },
  {
   "cell_type": "markdown",
   "id": "1ffa7e51-35a2-4274-9b31-4d4c1ea79f70",
   "metadata": {},
   "source": [
    "$if-else*"
   ]
  },
  {
   "cell_type": "code",
   "execution_count": 20,
   "id": "21f0766a-32a6-4d99-9afe-7fbb1b0ca2f0",
   "metadata": {},
   "outputs": [
    {
     "data": {
      "text/plain": [
       "200"
      ]
     },
     "execution_count": 20,
     "metadata": {},
     "output_type": "execute_result"
    }
   ],
   "source": [
    "#create afunction for finding greater number between 2 numbers\n",
    "def great(n1,n2):\n",
    "    if n1>n2:\n",
    "        return(n1)\n",
    "    else:\n",
    "        return(n2)\n",
    "great(100,200)"
   ]
  },
  {
   "cell_type": "code",
   "execution_count": 22,
   "id": "41e4ac15-3070-4017-89e4-3786303c7e23",
   "metadata": {},
   "outputs": [],
   "source": [
    "#format:\n",
    "#l1=[<if_output> <if>_con> else<else_op> <loop>]\n",
    "\n"
   ]
  },
  {
   "cell_type": "code",
   "execution_count": 24,
   "id": "db134206-eed4-4b00-aa0d-6470e0ac580e",
   "metadata": {},
   "outputs": [
    {
     "data": {
      "text/plain": [
       "200"
      ]
     },
     "execution_count": 24,
     "metadata": {},
     "output_type": "execute_result"
    }
   ],
   "source": [
    "def great(n1,n2):\n",
    "    if n1>n2:\n",
    "        return(n1)\n",
    "    else:\n",
    "        return(n2)\n",
    "great(100,200)\n",
    "#lambda <arg1>,<arg2>:\n"
   ]
  },
  {
   "cell_type": "code",
   "execution_count": 26,
   "id": "33373b74-defa-4857-bcf4-97c168ff453b",
   "metadata": {},
   "outputs": [
    {
     "data": {
      "text/plain": [
       "8"
      ]
     },
     "execution_count": 26,
     "metadata": {},
     "output_type": "execute_result"
    }
   ],
   "source": [
    "great=lambda a,b:(a if a>b else b)\n",
    "great(8,3)"
   ]
  },
  {
   "cell_type": "raw",
   "id": "bbd36f58-07e5-4fe7-b502-62b797a9de15",
   "metadata": {},
   "source": [
    "-lambda functionis is nothing but create a function\n",
    "-one argument\n",
    "-multiple arguments\n",
    "-if else conditions\n",
    "-if else conditions same like list compehension"
   ]
  },
  {
   "cell_type": "code",
   "execution_count": 10,
   "id": "1c6192ae-66d0-4fc0-8982-0aac508ce473",
   "metadata": {},
   "outputs": [
    {
     "name": "stdout",
     "output_type": "stream",
     "text": [
      "['Hyd', 'Mumbai', 'Chennai']\n"
     ]
    },
    {
     "data": {
      "text/plain": [
       "['Hyd', 'Mumbai', 'Chennai']"
      ]
     },
     "execution_count": 10,
     "metadata": {},
     "output_type": "execute_result"
    }
   ],
   "source": [
    "list1=['hyd','mumbai','chennai']\n",
    "#output:['hyd','mumbai','chennai']\n",
    "#m1:use append method\n",
    "list2=[]\n",
    "for i in list1:\n",
    "    list2.append(i.capitalize())\n",
    "print(list2)\n",
    "#m2:use list compenhension\n",
    "[i.capitalize() for i in list2]\n"
   ]
  },
  {
   "cell_type": "code",
   "execution_count": 11,
   "id": "3786c0cd-fd29-4787-baff-65b5b2a5e66f",
   "metadata": {},
   "outputs": [
    {
     "data": {
      "text/plain": [
       "['Hyd', 'Mumbai', 'Chennai']"
      ]
     },
     "execution_count": 11,
     "metadata": {},
     "output_type": "execute_result"
    }
   ],
   "source": [
    "#lambda<arguments>:<output>\n",
    "[i.capitalize() for i in list1]"
   ]
  },
  {
   "cell_type": "code",
   "execution_count": null,
   "id": "85ca4c77-ee91-45cd-b680-ee67789b3156",
   "metadata": {},
   "outputs": [],
   "source": []
  },
  {
   "cell_type": "code",
   "execution_count": null,
   "id": "a18d31fc-7125-4554-abda-2aff4f12179a",
   "metadata": {},
   "outputs": [],
   "source": [
    "#whenever u use iterations\n",
    "#iterator:some thing that can be iterable/u can print using loop\n",
    "#list,string, tuple,dictionary\n"
   ]
  },
  {
   "cell_type": "code",
   "execution_count": 12,
   "id": "8af01d08-cb48-445e-aa56-f2529dceeaf3",
   "metadata": {},
   "outputs": [
    {
     "data": {
      "text/plain": [
       "<map at 0x26f90c2c8e0>"
      ]
     },
     "execution_count": 12,
     "metadata": {},
     "output_type": "execute_result"
    }
   ],
   "source": [
    "list1=['Hyd', 'Mumbai', 'Chennai']\n",
    "map(lambda i:i.capitalize(),list1)"
   ]
  },
  {
   "cell_type": "raw",
   "id": "5e1c2027-0610-4d13-a4b4-fe257a8c9250",
   "metadata": {},
   "source": [
    "#first make a lambda function\n",
    "#second add your iterator\n",
    "#map both function and iterator\n",
    "#save the result in list"
   ]
  },
  {
   "cell_type": "code",
   "execution_count": 13,
   "id": "b1f9331a-f153-4e02-bc73-fc08a00eca34",
   "metadata": {},
   "outputs": [
    {
     "data": {
      "text/plain": [
       "['Hyd', 'Mumbai', 'Chennai']"
      ]
     },
     "execution_count": 13,
     "metadata": {},
     "output_type": "execute_result"
    }
   ],
   "source": [
    "list(map(lambda i:i.capitalize(),list1))"
   ]
  },
  {
   "cell_type": "code",
   "execution_count": 14,
   "id": "daa9bcb6-248d-4f1b-8d72-0fc6f277859a",
   "metadata": {},
   "outputs": [
    {
     "data": {
      "text/plain": [
       "['Hyd', 'Mumbai', 'Chennai']"
      ]
     },
     "execution_count": 14,
     "metadata": {},
     "output_type": "execute_result"
    }
   ],
   "source": [
    "list1=['Hyd', 'Mumbai', 'Chennai']\n",
    "[lambda i:i.capitalize(),list1]\n",
    "map(lambda i:i.capitalize(),list1)\n",
    "list(map(lambda i:i.capitalize(),list1))"
   ]
  },
  {
   "cell_type": "code",
   "execution_count": 17,
   "id": "702a53df-36af-4b56-8e40-a73aa36a806e",
   "metadata": {},
   "outputs": [
    {
     "name": "stdout",
     "output_type": "stream",
     "text": [
      "1\n",
      "4\n",
      "9\n",
      "16\n",
      "25\n"
     ]
    }
   ],
   "source": [
    "lit1=[1,2,3,4,5]\n",
    "#[1,4,9,16,25]\n",
    "list(map(lambda i:i*i,lit1))\n",
    "for i in map(lambda i:i*i,lit1):\n",
    "    print(i)"
   ]
  },
  {
   "cell_type": "code",
   "execution_count": 22,
   "id": "eed11dcb-3278-4afa-b8af-12b33e563502",
   "metadata": {},
   "outputs": [
    {
     "name": "stdout",
     "output_type": "stream",
     "text": [
      "12\n",
      "24\n",
      "36\n"
     ]
    }
   ],
   "source": [
    "list1=[1,2,3]\n",
    "list2=[11,22,33]\n",
    "#[12,24,36]\n",
    "for i,j in zip(list1,list2):\n",
    "    print(i+j)"
   ]
  },
  {
   "cell_type": "code",
   "execution_count": 25,
   "id": "c5d95ed8-6f28-4e40-b12d-341e5af3dd20",
   "metadata": {},
   "outputs": [
    {
     "data": {
      "text/plain": [
       "'<map object at 0x0000026F92F0B2B0>'"
      ]
     },
     "execution_count": 25,
     "metadata": {},
     "output_type": "execute_result"
    }
   ],
   "source": [
    "str(map(lambda i,j:i+j, list1,list2))"
   ]
  },
  {
   "cell_type": "code",
   "execution_count": 26,
   "id": "463dab97-325f-45e3-8fca-1c29e6a3cd3a",
   "metadata": {},
   "outputs": [
    {
     "data": {
      "text/plain": [
       "'[]'"
      ]
     },
     "execution_count": 26,
     "metadata": {},
     "output_type": "execute_result"
    }
   ],
   "source": [
    "str([])"
   ]
  },
  {
   "cell_type": "code",
   "execution_count": 28,
   "id": "6b7a79d3-58c0-488a-b2f2-6dfe41b71540",
   "metadata": {},
   "outputs": [
    {
     "name": "stdout",
     "output_type": "stream",
     "text": [
      "['h#d', 'mum#bai']\n"
     ]
    },
    {
     "data": {
      "text/plain": [
       "['h#d', 'mum#bai']"
      ]
     },
     "execution_count": 28,
     "metadata": {},
     "output_type": "execute_result"
    }
   ],
   "source": [
    "list1=['h#d','mum#bai','chennai']\n",
    "#[h#d,mum#bai]\n",
    "list1=['h#d','mum#bai','chennai']\n",
    "list2=[]\n",
    "for i in list1:\n",
    "    if i.find('#')>0:\n",
    "        list2.append(i)\n",
    "print(list2)\n",
    "[i for i in list1 if '#' in i]"
   ]
  },
  {
   "cell_type": "code",
   "execution_count": 35,
   "id": "faae5ab7-c511-4d23-8d6b-5f917b1009ed",
   "metadata": {},
   "outputs": [
    {
     "data": {
      "text/plain": [
       "[True, True, False]"
      ]
     },
     "execution_count": 35,
     "metadata": {},
     "output_type": "execute_result"
    }
   ],
   "source": [
    "list1=['h#d','mum#bai','chennai']\n",
    "list(filter(lambda i:'#' in i,list1))\n",
    "list(map(lambda i:'#' in i,list1))"
   ]
  },
  {
   "cell_type": "code",
   "execution_count": 32,
   "id": "4e941972-0600-4dba-a6a9-0b74ea88a377",
   "metadata": {},
   "outputs": [
    {
     "data": {
      "text/plain": [
       "False"
      ]
     },
     "execution_count": 32,
     "metadata": {},
     "output_type": "execute_result"
    }
   ],
   "source": [
    "\n",
    "list1=['h#d','mum#bai','chennai']\n",
    "'#' in 'h#d'\n",
    "'#' in 'chennai'"
   ]
  },
  {
   "cell_type": "code",
   "execution_count": null,
   "id": "68ba6ebc-02cb-4ac4-9d9a-0d9dc912d488",
   "metadata": {},
   "outputs": [],
   "source": [
    "whenever u want to read any file\n",
    "types of file is necessary\n",
    "-.txt\n",
    "-.csv\n",
    "-.xlsx\n",
    "-.json\n",
    "-.xml\n",
    "-.parquet\n",
    "-.delta\n",
    "-.pdf\n",
    "-.jpg\n",
    "-.png"
   ]
  },
  {
   "cell_type": "code",
   "execution_count": null,
   "id": "edbac4bc-9297-4887-b604-4546d859ec89",
   "metadata": {},
   "outputs": [],
   "source": [
    "inorder to read your python\n",
    "-where is  ur file\n",
    "-what is ur file name\n",
    "-what is the type of file(extension)"
   ]
  },
  {
   "cell_type": "raw",
   "id": "ac585273-29a5-4198-8e23-5f722a232b7a",
   "metadata": {},
   "source": [
    "C:\\Users\\Bhuban Khadka\\Documents\n",
    "bhumika\n",
    ".txt"
   ]
  },
  {
   "cell_type": "code",
   "execution_count": null,
   "id": "742c9764-4985-4d34-8a68-e1c7f8ac743f",
   "metadata": {},
   "outputs": [],
   "source": [
    "file_location=\"C:\\Users\\Bhuban Khadka\\Documents\"\n",
    "file_name=\"bhumika\"\n",
    "extension=\".txt\"\n"
   ]
  },
  {
   "cell_type": "raw",
   "id": "5606c3aa-3903-4235-b494-e54452a4dd5e",
   "metadata": {},
   "source": [
    "file_location+file_name+extension#single slash error will come\n",
    "#provide double slash"
   ]
  },
  {
   "cell_type": "code",
   "execution_count": null,
   "id": "a247871e-6f4f-4df3-ab72-357b27277823",
   "metadata": {},
   "outputs": [],
   "source": [
    "\"C:\\\\Users\\\\Bhuban Khadka\\\\Documents\\\\bhumika.txt\""
   ]
  },
  {
   "cell_type": "code",
   "execution_count": 38,
   "id": "68f2490b-2e46-45a2-9900-33c1b7dbf86c",
   "metadata": {},
   "outputs": [
    {
     "data": {
      "text/plain": [
       "'C:\\\\Users\\\\Bhuban Khadka\\\\Documents\\\\bhumika.txt'"
      ]
     },
     "execution_count": 38,
     "metadata": {},
     "output_type": "execute_result"
    }
   ],
   "source": [
    "file_path=\"C:\\\\Users\\\\Bhuban Khadka\\\\Documents\\\\bhumika.txt\"\n",
    "file_path"
   ]
  },
  {
   "cell_type": "code",
   "execution_count": 39,
   "id": "66a560f3-9c72-4d9d-be96-dff13a37ed1b",
   "metadata": {},
   "outputs": [
    {
     "data": {
      "text/plain": [
       "<_io.TextIOWrapper name='C:\\\\Users\\\\Bhuban Khadka\\\\Documents\\\\bhumika.txt' mode='r' encoding='cp1252'>"
      ]
     },
     "execution_count": 39,
     "metadata": {},
     "output_type": "execute_result"
    }
   ],
   "source": [
    "open(file_path)\n",
    "#mode: read/write\n",
    "#emcoding:cp1252/utf-8"
   ]
  },
  {
   "cell_type": "raw",
   "id": "31086476-5b2d-4fe0-9186-5797f6bf1770",
   "metadata": {},
   "source": [
    "-whenever any file has special character it will not read\n",
    "-that time you need to provide encoding value\n",
    "-diff encoded files has diff encoding method\n",
    "-cp1252/utf-8"
   ]
  },
  {
   "cell_type": "code",
   "execution_count": 40,
   "id": "6271f1ea-34c3-4c7a-8fc5-efbba10e2440",
   "metadata": {},
   "outputs": [
    {
     "data": {
      "text/plain": [
       "<function TextIOWrapper.read(size=-1, /)>"
      ]
     },
     "execution_count": 40,
     "metadata": {},
     "output_type": "execute_result"
    }
   ],
   "source": [
    "file_path=\"C:\\\\Users\\\\Bhuban Khadka\\\\Documents\\\\bhumika.txt\"\n",
    "file=open(file_path)\n",
    "file.read"
   ]
  },
  {
   "cell_type": "code",
   "execution_count": null,
   "id": "f4d0c44e-36e7-4be3-902b-260bfa5df44e",
   "metadata": {},
   "outputs": [],
   "source": []
  }
 ],
 "metadata": {
  "kernelspec": {
   "display_name": "Python [conda env:base] *",
   "language": "python",
   "name": "conda-base-py"
  },
  "language_info": {
   "codemirror_mode": {
    "name": "ipython",
    "version": 3
   },
   "file_extension": ".py",
   "mimetype": "text/x-python",
   "name": "python",
   "nbconvert_exporter": "python",
   "pygments_lexer": "ipython3",
   "version": "3.12.7"
  }
 },
 "nbformat": 4,
 "nbformat_minor": 5
}
