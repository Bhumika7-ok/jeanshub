{
 "cells": [
  {
   "cell_type": "code",
   "execution_count": null,
   "id": "bd83663a-2354-4ec8-9f4a-f1ed4e48d104",
   "metadata": {},
   "outputs": [],
   "source": []
  }
 ],
 "metadata": {
  "kernelspec": {
   "display_name": "",
   "name": ""
  },
  "language_info": {
   "name": ""
  }
 },
 "nbformat": 4,
 "nbformat_minor": 5
}
