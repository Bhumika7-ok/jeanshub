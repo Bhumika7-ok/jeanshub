{
 "cells": [
  {
   "cell_type": "markdown",
   "id": "17cc3499-7ca0-47cb-9e0a-68e94133531a",
   "metadata": {},
   "source": [
    "**dictionary methods**"
   ]
  },
  {
   "cell_type": "code",
   "execution_count": 7,
   "id": "4e5d4dfa-d317-49c9-86c5-01dd63a1ead0",
   "metadata": {},
   "outputs": [
    {
     "data": {
      "text/plain": [
       "['__class__',\n",
       " '__class_getitem__',\n",
       " '__contains__',\n",
       " '__delattr__',\n",
       " '__delitem__',\n",
       " '__dir__',\n",
       " '__doc__',\n",
       " '__eq__',\n",
       " '__format__',\n",
       " '__ge__',\n",
       " '__getattribute__',\n",
       " '__getitem__',\n",
       " '__getstate__',\n",
       " '__gt__',\n",
       " '__hash__',\n",
       " '__init__',\n",
       " '__init_subclass__',\n",
       " '__ior__',\n",
       " '__iter__',\n",
       " '__le__',\n",
       " '__len__',\n",
       " '__lt__',\n",
       " '__ne__',\n",
       " '__new__',\n",
       " '__or__',\n",
       " '__reduce__',\n",
       " '__reduce_ex__',\n",
       " '__repr__',\n",
       " '__reversed__',\n",
       " '__ror__',\n",
       " '__setattr__',\n",
       " '__setitem__',\n",
       " '__sizeof__',\n",
       " '__str__',\n",
       " '__subclasshook__',\n",
       " 'clear',\n",
       " 'copy',\n",
       " 'fromkeys',\n",
       " 'get',\n",
       " 'items',\n",
       " 'keys',\n",
       " 'pop',\n",
       " 'popitem',\n",
       " 'setdefault',\n",
       " 'update',\n",
       " 'values']"
      ]
     },
     "execution_count": 7,
     "metadata": {},
     "output_type": "execute_result"
    }
   ],
   "source": [
    "dir({})\n",
    "#str=''\n",
    "#list=[]\n",
    "#dic={}"
   ]
  },
  {
   "cell_type": "markdown",
   "id": "a47ab021-d39e-4b4b-8b80-66cf1d7e74a2",
   "metadata": {},
   "source": [
    "$items-keys-values$"
   ]
  },
  {
   "cell_type": "code",
   "execution_count": 8,
   "id": "6d4ea4aa-8725-4583-80f5-ade41992fa26",
   "metadata": {},
   "outputs": [
    {
     "data": {
      "text/plain": [
       "{'Bhums': 25, 'Sanju': 20, 'Sahil': 35}"
      ]
     },
     "execution_count": 8,
     "metadata": {},
     "output_type": "execute_result"
    }
   ],
   "source": [
    "a1={'Bhums':25,\n",
    " 'Sanju':20,\n",
    " 'Sahil':35}\n",
    "a1"
   ]
  },
  {
   "cell_type": "code",
   "execution_count": 9,
   "id": "4ac0e34a-e2c7-45f1-a367-83b6d5041350",
   "metadata": {},
   "outputs": [
    {
     "data": {
      "text/plain": [
       "dict_items([('Bhums', 25), ('Sanju', 20), ('Sahil', 35)])"
      ]
     },
     "execution_count": 9,
     "metadata": {},
     "output_type": "execute_result"
    }
   ],
   "source": [
    "items=a1.items()\n",
    "items"
   ]
  },
  {
   "cell_type": "code",
   "execution_count": 10,
   "id": "5485b458-0d2f-4cb5-9493-8cdc6c499c8d",
   "metadata": {},
   "outputs": [
    {
     "data": {
      "text/plain": [
       "dict_items"
      ]
     },
     "execution_count": 10,
     "metadata": {},
     "output_type": "execute_result"
    }
   ],
   "source": [
    "type(items)"
   ]
  },
  {
   "cell_type": "code",
   "execution_count": null,
   "id": "4f0392ce-1439-4997-83c9-3bca5658a48e",
   "metadata": {},
   "outputs": [],
   "source": []
  },
  {
   "cell_type": "code",
   "execution_count": 11,
   "id": "add69791-4e3f-4188-9f4c-e9f5a7edf2e2",
   "metadata": {},
   "outputs": [
    {
     "data": {
      "text/plain": [
       "dict_keys(['Bhums', 'Sanju', 'Sahil'])"
      ]
     },
     "execution_count": 11,
     "metadata": {},
     "output_type": "execute_result"
    }
   ],
   "source": [
    "#keys\n",
    "keys=a1.keys()\n",
    "keys"
   ]
  },
  {
   "cell_type": "code",
   "execution_count": 12,
   "id": "21b14882-29ef-4d55-8ead-8d2e9544a392",
   "metadata": {},
   "outputs": [
    {
     "data": {
      "text/plain": [
       "dict_keys"
      ]
     },
     "execution_count": 12,
     "metadata": {},
     "output_type": "execute_result"
    }
   ],
   "source": [
    "type(keys)"
   ]
  },
  {
   "cell_type": "code",
   "execution_count": 13,
   "id": "e3f44313-6e4c-4846-b710-b3f5afdbcd1f",
   "metadata": {},
   "outputs": [
    {
     "data": {
      "text/plain": [
       "dict_values([25, 20, 35])"
      ]
     },
     "execution_count": 13,
     "metadata": {},
     "output_type": "execute_result"
    }
   ],
   "source": [
    "#values\n",
    "values=a1.values()\n",
    "values"
   ]
  },
  {
   "cell_type": "code",
   "execution_count": 21,
   "id": "090dd4b0-9761-497a-ad1a-efd1555efca5",
   "metadata": {},
   "outputs": [
    {
     "data": {
      "text/plain": [
       "dict_values"
      ]
     },
     "execution_count": 21,
     "metadata": {},
     "output_type": "execute_result"
    }
   ],
   "source": [
    "type(values)\n"
   ]
  },
  {
   "cell_type": "code",
   "execution_count": 14,
   "id": "86e398ad-56d7-4540-adde-7f18938c0838",
   "metadata": {},
   "outputs": [
    {
     "data": {
      "text/plain": [
       "[25, 30, 35, 400]"
      ]
     },
     "execution_count": 14,
     "metadata": {},
     "output_type": "execute_result"
    }
   ],
   "source": [
    "l1=[25,30,35]\n",
    "l1.append(400)\n",
    "l1"
   ]
  },
  {
   "cell_type": "code",
   "execution_count": 15,
   "id": "215e4a3f-5d1d-4f00-92f0-609f471d0e10",
   "metadata": {},
   "outputs": [
    {
     "data": {
      "text/plain": [
       "[25, 20, 35]"
      ]
     },
     "execution_count": 15,
     "metadata": {},
     "output_type": "execute_result"
    }
   ],
   "source": [
    "\n",
    "values\n",
    "list(values)"
   ]
  },
  {
   "cell_type": "code",
   "execution_count": 16,
   "id": "261859d3-be92-4fea-853e-9917b5b44b12",
   "metadata": {},
   "outputs": [
    {
     "data": {
      "text/plain": [
       "['Bhums', 'Sanju', 'Sahil']"
      ]
     },
     "execution_count": 16,
     "metadata": {},
     "output_type": "execute_result"
    }
   ],
   "source": [
    "list(keys)"
   ]
  },
  {
   "cell_type": "code",
   "execution_count": 17,
   "id": "7ad6c0a7-9ef5-4296-990e-5f9bd969c6a9",
   "metadata": {},
   "outputs": [],
   "source": [
    "a1={'Bhums':25,\n",
    " 'Sanju':20,\n",
    " 'Sahil':35}\n",
    "keys=list(a1.keys())\n",
    "values=list(a1.values())"
   ]
  },
  {
   "cell_type": "code",
   "execution_count": 18,
   "id": "f11cfc34-0037-430b-aefa-be30b9b7f029",
   "metadata": {},
   "outputs": [
    {
     "data": {
      "text/plain": [
       "(['Bhums', 'Sanju', 'Sahil'], [25, 20, 35])"
      ]
     },
     "execution_count": 18,
     "metadata": {},
     "output_type": "execute_result"
    }
   ],
   "source": [
    "keys,values"
   ]
  },
  {
   "cell_type": "code",
   "execution_count": 19,
   "id": "a4dd82e0-8edc-4cba-942e-f0f8781431fe",
   "metadata": {},
   "outputs": [
    {
     "data": {
      "text/plain": [
       "{'Bhums': 25, 'Sanju': 20, 'Sahil': 35}"
      ]
     },
     "execution_count": 19,
     "metadata": {},
     "output_type": "execute_result"
    }
   ],
   "source": [
    "{i:j for i,j in zip(keys,values)}"
   ]
  },
  {
   "cell_type": "code",
   "execution_count": 20,
   "id": "319e7168-68d8-4a34-a864-d4aaa2ab49cb",
   "metadata": {},
   "outputs": [
    {
     "data": {
      "text/plain": [
       "{'Bhums': 25, 'Sanju': 20, 'Sahil': 35}"
      ]
     },
     "execution_count": 20,
     "metadata": {},
     "output_type": "execute_result"
    }
   ],
   "source": [
    "a1={}\n",
    "for i in range(len(keys)):\n",
    "    a1[keys[i]]=values[i]\n",
    "a1"
   ]
  },
  {
   "cell_type": "code",
   "execution_count": 21,
   "id": "381b343f-4298-4be7-a04a-c82e3d274574",
   "metadata": {},
   "outputs": [
    {
     "data": {
      "text/plain": [
       "{'Bhums': 25, 'Sanju': 20, 'Sahil': 35}"
      ]
     },
     "execution_count": 21,
     "metadata": {},
     "output_type": "execute_result"
    }
   ],
   "source": [
    "dict(zip(keys,values))"
   ]
  },
  {
   "cell_type": "code",
   "execution_count": 26,
   "id": "a9cb9e8d-4d43-49d4-817c-0c26eb38ee8a",
   "metadata": {},
   "outputs": [
    {
     "data": {
      "text/plain": [
       "{'First_name': ['virat', 'Rohit', 'kl'],\n",
       " 'Second_name': ['kohli', 'sharma', 'rahul'],\n",
       " 'company': ['blr', 'mumbai', 'lucknow']}"
      ]
     },
     "execution_count": 26,
     "metadata": {},
     "output_type": "execute_result"
    }
   ],
   "source": [
    "s1='virat.kohli@blr.com,Rohit.sharma@mumbai.com,kl.rahul@lucknow.com'\n",
    "#first name='virat,rohit,rahul'\n",
    "#'second name='kohli,sharma,lucknow\n",
    "#comapny=blr,mumbai,lucknow\n",
    "b1=s1.split(',')\n",
    "First_name=[]\n",
    "Second_name=[]\n",
    "company=[]\n",
    "d2={}\n",
    "for i in b1:\n",
    "    First_name.append(i[0:i.find('.')])\n",
    "    Second_name.append(i[i.find('.')+1:i.find('@')])\n",
    "    company.append(i[i.find('@')+1:i.find('.',i.find('.')+1)])\n",
    "d2['First_name']=First_name\n",
    "d2['Second_name']=Second_name\n",
    "d2['company']=company\n",
    "d2"
   ]
  },
  {
   "cell_type": "code",
   "execution_count": 32,
   "id": "4cd8c6b7-455e-4c5c-ba15-827ba31d5afc",
   "metadata": {},
   "outputs": [
    {
     "data": {
      "text/plain": [
       "(['virat', 'Rohit', 'kl'],\n",
       " ['kohli', 'sharma', 'rahul'],\n",
       " ['blr', 'mumbai', 'lucknow'])"
      ]
     },
     "execution_count": 32,
     "metadata": {},
     "output_type": "execute_result"
    }
   ],
   "source": [
    "s1.split(',')\n",
    "str1='virat.kohli@blr.com'\n",
    "\n",
    "\n",
    "f_name=[str1[:str1.find('.')] for str1 in s1.split(',')]\n",
    "s_name=[str1[str1.find('.')+1:str1.find('@')] for str1 in s1.split(',')]\n",
    "c_name=[str1[str1.find('@')+1:str1.find('.',str1.find('.')+1)] for str1 in s1.split(',')]\n",
    "f_name,s_name,c_name\n"
   ]
  },
  {
   "cell_type": "code",
   "execution_count": 34,
   "id": "711a5878-1694-4cf7-9044-5fcf5ed87d6c",
   "metadata": {},
   "outputs": [
    {
     "data": {
      "text/plain": [
       "(['virat', 'Rohit', 'kl'],\n",
       " ['kohli', 'sharma', 'rahul'],\n",
       " ['blr', 'mumbai', 'lucknow'])"
      ]
     },
     "execution_count": 34,
     "metadata": {},
     "output_type": "execute_result"
    }
   ],
   "source": [
    "s1.split(',')\n",
    "str1='Rohit.sharma@mumbai.com'\n",
    "\n",
    "\n",
    "f_name=[str1[:str1.find('.')] for str1 in s1.split(',')]\n",
    "s_name=[str1[str1.find('.')+1:str1.find('@')] for str1 in s1.split(',')]\n",
    "c_name=[str1[str1.find('@')+1:str1.find('.',str1.find('.')+1)] for str1 in s1.split(',')]\n",
    "f_name,s_name,c_name\n"
   ]
  },
  {
   "cell_type": "code",
   "execution_count": 39,
   "id": "377d3aa8-7cb7-4635-b5ab-6d1998106029",
   "metadata": {},
   "outputs": [
    {
     "data": {
      "text/plain": [
       "{'can': 4, 'you': 2, 'canner': 2, 'able': 1, 'to': 1}"
      ]
     },
     "execution_count": 39,
     "metadata": {},
     "output_type": "execute_result"
    }
   ],
   "source": [
    "str1='can can you canner can you able to can canner'\n",
    "#{'can':4,'you;2',\"canner;2,able;1 to ;1}\n",
    "a1=str1.split(' ')\n",
    "d1={}\n",
    "for i in a1:\n",
    "    d1[i]=a1.count(i)\n",
    "d1"
   ]
  },
  {
   "cell_type": "code",
   "execution_count": 40,
   "id": "a08fd237-4571-4778-b409-b0ac28fc2e01",
   "metadata": {},
   "outputs": [
    {
     "data": {
      "text/plain": [
       "['can', 'can', 'you', 'canner', 'can', 'you', 'able', 'to', 'can', 'canner']"
      ]
     },
     "execution_count": 40,
     "metadata": {},
     "output_type": "execute_result"
    }
   ],
   "source": [
    "str1='can can you canner can you able to can canner'\n",
    "str1.split()"
   ]
  },
  {
   "cell_type": "code",
   "execution_count": 43,
   "id": "1dfe7add-52fb-41eb-be1a-874d6cb87bc9",
   "metadata": {},
   "outputs": [
    {
     "data": {
      "text/plain": [
       "['can', 'you', 'canner', 'able', 'to']"
      ]
     },
     "execution_count": 43,
     "metadata": {},
     "output_type": "execute_result"
    }
   ],
   "source": [
    "list(d1.keys())"
   ]
  },
  {
   "cell_type": "code",
   "execution_count": 45,
   "id": "a56c6af5-08ab-49a3-95e0-e99eb739a303",
   "metadata": {},
   "outputs": [
    {
     "data": {
      "text/plain": [
       "'can'"
      ]
     },
     "execution_count": 45,
     "metadata": {},
     "output_type": "execute_result"
    }
   ],
   "source": [
    "list(d1.keys())[list(d1.values()).index(max(list(d1.values())))]"
   ]
  },
  {
   "cell_type": "code",
   "execution_count": 44,
   "id": "bcec3e26-046b-4fb7-a8e4-e08ede917c26",
   "metadata": {},
   "outputs": [
    {
     "data": {
      "text/plain": [
       "0"
      ]
     },
     "execution_count": 44,
     "metadata": {},
     "output_type": "execute_result"
    }
   ],
   "source": [
    "list(d1.values()).index(max(list(d1.values())))"
   ]
  },
  {
   "cell_type": "code",
   "execution_count": 47,
   "id": "73088d06-a8f4-46c5-a52a-f399f7301716",
   "metadata": {},
   "outputs": [],
   "source": [
    "keys=list(d1.keys())"
   ]
  },
  {
   "cell_type": "code",
   "execution_count": 48,
   "id": "0b77e997-3ffa-4a43-8e5e-ea3ed2cbe6e9",
   "metadata": {},
   "outputs": [],
   "source": [
    "values=list(d1.keys())"
   ]
  },
  {
   "cell_type": "code",
   "execution_count": 49,
   "id": "29f66384-1821-45da-9ed9-c910638f8207",
   "metadata": {},
   "outputs": [
    {
     "data": {
      "text/plain": [
       "(['can', 'you', 'canner', 'able', 'to'],\n",
       " ['can', 'you', 'canner', 'able', 'to'])"
      ]
     },
     "execution_count": 49,
     "metadata": {},
     "output_type": "execute_result"
    }
   ],
   "source": [
    "keys,values"
   ]
  },
  {
   "cell_type": "code",
   "execution_count": 50,
   "id": "74907633-8ed8-4f21-9c0c-90c9cbb2cce3",
   "metadata": {},
   "outputs": [],
   "source": [
    "i=max(values)"
   ]
  },
  {
   "cell_type": "code",
   "execution_count": 51,
   "id": "43c564e0-d1c7-4cb3-987d-6e1a65521d39",
   "metadata": {},
   "outputs": [
    {
     "data": {
      "text/plain": [
       "1"
      ]
     },
     "execution_count": 51,
     "metadata": {},
     "output_type": "execute_result"
    }
   ],
   "source": [
    "values.index(i)"
   ]
  },
  {
   "cell_type": "code",
   "execution_count": 52,
   "id": "c2686c73-50c8-459a-8b9c-31bb0db66e5a",
   "metadata": {},
   "outputs": [
    {
     "data": {
      "text/plain": [
       "'you'"
      ]
     },
     "execution_count": 52,
     "metadata": {},
     "output_type": "execute_result"
    }
   ],
   "source": [
    "keys[values.index(max(values))]"
   ]
  },
  {
   "cell_type": "code",
   "execution_count": 53,
   "id": "a616a966-3cce-4125-a4fc-be19fdee066b",
   "metadata": {},
   "outputs": [
    {
     "data": {
      "text/plain": [
       "{'a': 70, 'b': 130, 'c': 240}"
      ]
     },
     "execution_count": 53,
     "metadata": {},
     "output_type": "execute_result"
    }
   ],
   "source": [
    "d1={'a':20,'b':30,'c':40}\n",
    "d2={'a':50,'b':100,'c':200}\n",
    "for i in d2:\n",
    "    d1[i]+=d2[i]\n",
    "d1"
   ]
  },
  {
   "cell_type": "code",
   "execution_count": 54,
   "id": "6dae82f8-345b-4529-bbf2-b34f47b67e82",
   "metadata": {},
   "outputs": [
    {
     "data": {
      "text/plain": [
       "{'a': 70, 'b': 130, 'c': 240}"
      ]
     },
     "execution_count": 54,
     "metadata": {},
     "output_type": "execute_result"
    }
   ],
   "source": [
    "d1={'a':20,'b':30,'c':40}\n",
    "d2={'a':50,'b':100,'c':200}\n",
    "for i in d1:\n",
    "    d1[i]+=d2[i]\n",
    "d1"
   ]
  },
  {
   "cell_type": "code",
   "execution_count": 57,
   "id": "6d6600d7-b683-45c0-a689-973230713e27",
   "metadata": {},
   "outputs": [
    {
     "data": {
      "text/plain": [
       "{'a': 70, 'b': 130, 'c': 240}"
      ]
     },
     "execution_count": 57,
     "metadata": {},
     "output_type": "execute_result"
    }
   ],
   "source": [
    "d1={'a':20,'b':30,'c':40}\n",
    "d2={'a':50,'b':100,'c':200}\n",
    "\n",
    "d3={}\n",
    "if len(d1)==len(d2):\n",
    "    for i in d1:\n",
    "        \n",
    "        d3[i]=d1[i]+d2[i]\n",
    "d3"
   ]
  },
  {
   "cell_type": "code",
   "execution_count": 58,
   "id": "26fbed37-7339-43e0-a426-050bf224f2f4",
   "metadata": {},
   "outputs": [
    {
     "data": {
      "text/plain": [
       "{'a': 70, 'b': 130, 'c': 240}"
      ]
     },
     "execution_count": 58,
     "metadata": {},
     "output_type": "execute_result"
    }
   ],
   "source": [
    "for i in range(min(len(d1),len(d2))):\n",
    "    d1[list(d1.keys())[i]]+=d2[list(d2.keys())[i]]\n",
    "d1"
   ]
  },
  {
   "cell_type": "code",
   "execution_count": 59,
   "id": "7e3ad7c3-0740-482f-8809-773986ee0b1e",
   "metadata": {},
   "outputs": [
    {
     "data": {
      "text/plain": [
       "{'a': 70, 'b': 130, 'c': 240}"
      ]
     },
     "execution_count": 59,
     "metadata": {},
     "output_type": "execute_result"
    }
   ],
   "source": [
    "d1={'a':20,'b':30,'c':40}\n",
    "d2={'a':50,'b':100,'c':200}\n",
    "for i in range(min(len(d1),len(d2))):\n",
    "    d1[list(d1.keys())[i]]+=d2[list(d2.keys())[i]]\n",
    "d1\n"
   ]
  },
  {
   "cell_type": "code",
   "execution_count": null,
   "id": "38968c3f-d4d3-42d0-8c32-369f891fdce5",
   "metadata": {},
   "outputs": [],
   "source": []
  }
 ],
 "metadata": {
  "kernelspec": {
   "display_name": "Python [conda env:base] *",
   "language": "python",
   "name": "conda-base-py"
  },
  "language_info": {
   "codemirror_mode": {
    "name": "ipython",
    "version": 3
   },
   "file_extension": ".py",
   "mimetype": "text/x-python",
   "name": "python",
   "nbconvert_exporter": "python",
   "pygments_lexer": "ipython3",
   "version": "3.12.7"
  }
 },
 "nbformat": 4,
 "nbformat_minor": 5
}
